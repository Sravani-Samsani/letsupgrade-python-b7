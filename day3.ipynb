{
  "nbformat": 4,
  "nbformat_minor": 0,
  "metadata": {
    "colab": {
      "name": "day3.ipynb",
      "provenance": [],
      "collapsed_sections": [],
      "authorship_tag": "ABX9TyPLRObNdlRifoQ007kpL6vr",
      "include_colab_link": true
    },
    "kernelspec": {
      "name": "python3",
      "display_name": "Python 3"
    }
  },
  "cells": [
    {
      "cell_type": "markdown",
      "metadata": {
        "id": "view-in-github",
        "colab_type": "text"
      },
      "source": [
        "<a href=\"https://colab.research.google.com/github/Sravani-Samsani/letsupgrade-python-b7/blob/master/day3.ipynb\" target=\"_parent\"><img src=\"https://colab.research.google.com/assets/colab-badge.svg\" alt=\"Open In Colab\"/></a>"
      ]
    },
    {
      "cell_type": "code",
      "metadata": {
        "id": "0YycEC0HgHJ-",
        "colab_type": "code",
        "colab": {
          "base_uri": "https://localhost:8080/",
          "height": 51
        },
        "outputId": "904574f5-24c9-4a65-f28c-b124196efcbc"
      },
      "source": [
        "altitude=int(input(\"enter the altitude\"))\n",
        "if altitude<=1000:\n",
        "  print(\"safe to land\")\n",
        "elif (altitude<=5000):\n",
        "  print(\"bring down to 1000\")\n",
        "else:\n",
        "  print(\"turn around\")"
      ],
      "execution_count": 22,
      "outputs": [
        {
          "output_type": "stream",
          "text": [
            "enter the altitude500\n",
            "safe to land\n"
          ],
          "name": "stdout"
        }
      ]
    },
    {
      "cell_type": "code",
      "metadata": {
        "id": "JNXbCA96lgXP",
        "colab_type": "code",
        "colab": {
          "base_uri": "https://localhost:8080/",
          "height": 816
        },
        "outputId": "7c37a036-0cf3-425d-a35e-12108de9462c"
      },
      "source": [
        "for Number in range (1, 201):\n",
        "    count = 0\n",
        "    for i in range(2, (Number//2 + 1)):\n",
        "        if(Number % i == 0):\n",
        "            count = count + 1\n",
        "            break\n",
        "\n",
        "    if (count == 0 and Number != 1):\n",
        "        print(\"\\n  %d\" %Number, end = '  ')"
      ],
      "execution_count": 23,
      "outputs": [
        {
          "output_type": "stream",
          "text": [
            "\n",
            "  2  \n",
            "  3  \n",
            "  5  \n",
            "  7  \n",
            "  11  \n",
            "  13  \n",
            "  17  \n",
            "  19  \n",
            "  23  \n",
            "  29  \n",
            "  31  \n",
            "  37  \n",
            "  41  \n",
            "  43  \n",
            "  47  \n",
            "  53  \n",
            "  59  \n",
            "  61  \n",
            "  67  \n",
            "  71  \n",
            "  73  \n",
            "  79  \n",
            "  83  \n",
            "  89  \n",
            "  97  \n",
            "  101  \n",
            "  103  \n",
            "  107  \n",
            "  109  \n",
            "  113  \n",
            "  127  \n",
            "  131  \n",
            "  137  \n",
            "  139  \n",
            "  149  \n",
            "  151  \n",
            "  157  \n",
            "  163  \n",
            "  167  \n",
            "  173  \n",
            "  179  \n",
            "  181  \n",
            "  191  \n",
            "  193  \n",
            "  197  \n",
            "  199  "
          ],
          "name": "stdout"
        }
      ]
    }
  ]
}