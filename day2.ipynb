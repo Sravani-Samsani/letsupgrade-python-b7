{
  "nbformat": 4,
  "nbformat_minor": 0,
  "metadata": {
    "colab": {
      "name": "day2.ipynb",
      "provenance": [],
      "collapsed_sections": [],
      "authorship_tag": "ABX9TyP265HOYiljsgOHK8J1V9h/",
      "include_colab_link": true
    },
    "kernelspec": {
      "name": "python3",
      "display_name": "Python 3"
    }
  },
  "cells": [
    {
      "cell_type": "markdown",
      "metadata": {
        "id": "view-in-github",
        "colab_type": "text"
      },
      "source": [
        "<a href=\"https://colab.research.google.com/github/Sravani-Samsani/letsupgrade-python-b7/blob/master/day2.ipynb\" target=\"_parent\"><img src=\"https://colab.research.google.com/assets/colab-badge.svg\" alt=\"Open In Colab\"/></a>"
      ]
    },
    {
      "cell_type": "markdown",
      "metadata": {
        "id": "0Qh73JhGN-xs",
        "colab_type": "text"
      },
      "source": [
        "# List"
      ]
    },
    {
      "cell_type": "code",
      "metadata": {
        "id": "TeehHEGsOHtM",
        "colab_type": "code",
        "colab": {
          "base_uri": "https://localhost:8080/",
          "height": 34
        },
        "outputId": "b061fa6b-375b-40e7-aa0b-05008431b093"
      },
      "source": [
        "lst=[10,20,\"jyo\",'a',20]\n",
        "print(lst)"
      ],
      "execution_count": null,
      "outputs": [
        {
          "output_type": "stream",
          "text": [
            "[10, 20, 'jyo', 'a', 20]\n"
          ],
          "name": "stdout"
        }
      ]
    },
    {
      "cell_type": "code",
      "metadata": {
        "id": "Z1v8Tr5MODRx",
        "colab_type": "code",
        "colab": {
          "base_uri": "https://localhost:8080/",
          "height": 34
        },
        "outputId": "48493de2-49f0-4a35-ff0a-133c40c01093"
      },
      "source": [
        "#append()\n",
        "lst.append(\"jai\")\n",
        "print(lst)"
      ],
      "execution_count": 75,
      "outputs": [
        {
          "output_type": "stream",
          "text": [
            "['jai']\n"
          ],
          "name": "stdout"
        }
      ]
    },
    {
      "cell_type": "code",
      "metadata": {
        "id": "_r0m46MWOmLM",
        "colab_type": "code",
        "colab": {
          "base_uri": "https://localhost:8080/",
          "height": 34
        },
        "outputId": "d4dd4e0d-4e7e-41e5-8a99-1e2abfdcf759"
      },
      "source": [
        "#clear()\n",
        "del lst[:]\n",
        "print(lst)"
      ],
      "execution_count": 76,
      "outputs": [
        {
          "output_type": "stream",
          "text": [
            "[]\n"
          ],
          "name": "stdout"
        }
      ]
    },
    {
      "cell_type": "code",
      "metadata": {
        "id": "9QId_4kePRgK",
        "colab_type": "code",
        "colab": {
          "base_uri": "https://localhost:8080/",
          "height": 34
        },
        "outputId": "c0bca3d8-172d-4ee7-9c80-148b94a8cbfc"
      },
      "source": [
        "#copy()\n",
        "lst=[10,[20,30,8],\"jyo\"]\n",
        "a=lst\n",
        "print(a)"
      ],
      "execution_count": 77,
      "outputs": [
        {
          "output_type": "stream",
          "text": [
            "[10, [20, 30, 8], 'jyo']\n"
          ],
          "name": "stdout"
        }
      ]
    },
    {
      "cell_type": "code",
      "metadata": {
        "id": "-rnJIQrHPzBJ",
        "colab_type": "code",
        "colab": {
          "base_uri": "https://localhost:8080/",
          "height": 51
        },
        "outputId": "219e87f1-c1f1-4d27-c26f-1a7ea0cd9dbc"
      },
      "source": [
        "#shallow copy()\n",
        "import copy \n",
        "a=[10,20,30]\n",
        "b=copy.copy(a)\n",
        "print(a)\n",
        "print(b)"
      ],
      "execution_count": 78,
      "outputs": [
        {
          "output_type": "stream",
          "text": [
            "[10, 20, 30]\n",
            "[10, 20, 30]\n"
          ],
          "name": "stdout"
        }
      ]
    },
    {
      "cell_type": "code",
      "metadata": {
        "id": "efR70NGMRD3k",
        "colab_type": "code",
        "colab": {
          "base_uri": "https://localhost:8080/",
          "height": 51
        },
        "outputId": "1451d13c-b3a5-4fe5-9fe7-f233e7cfac20"
      },
      "source": [
        "#deep copy()\n",
        "import copy\n",
        "a=[10,20,'a',[1,9,7]]\n",
        "b=copy.deepcopy(a)\n",
        "a[3][1]=5\n",
        "print(a)\n",
        "print(b)"
      ],
      "execution_count": 79,
      "outputs": [
        {
          "output_type": "stream",
          "text": [
            "[10, 20, 'a', [1, 5, 7]]\n",
            "[10, 20, 'a', [1, 9, 7]]\n"
          ],
          "name": "stdout"
        }
      ]
    },
    {
      "cell_type": "code",
      "metadata": {
        "id": "CQOEK5NrRzsD",
        "colab_type": "code",
        "colab": {
          "base_uri": "https://localhost:8080/",
          "height": 34
        },
        "outputId": "753e036f-83a9-4972-e453-aefd0b2dab29"
      },
      "source": [
        "#count()\n",
        "a=[9,5,8,9]\n",
        "count=a.count(9)\n",
        "print(count)"
      ],
      "execution_count": 80,
      "outputs": [
        {
          "output_type": "stream",
          "text": [
            "2\n"
          ],
          "name": "stdout"
        }
      ]
    },
    {
      "cell_type": "code",
      "metadata": {
        "id": "kYnxtyzCq7zL",
        "colab_type": "code",
        "colab": {
          "base_uri": "https://localhost:8080/",
          "height": 34
        },
        "outputId": "d643f48e-7931-4151-e35c-8c60a73b00cb"
      },
      "source": [
        "#extend()\n",
        "a=[\"python\",\"JAVA\",23,5.78]\n",
        "b=[\"test\",5,40.56]\n",
        "a.extend(b)\n",
        "print(a)"
      ],
      "execution_count": 81,
      "outputs": [
        {
          "output_type": "stream",
          "text": [
            "['python', 'JAVA', 23, 5.78, 'test', 5, 40.56]\n"
          ],
          "name": "stdout"
        }
      ]
    },
    {
      "cell_type": "code",
      "metadata": {
        "id": "Jc-YtdCB6xbg",
        "colab_type": "code",
        "colab": {
          "base_uri": "https://localhost:8080/",
          "height": 34
        },
        "outputId": "af34fb9b-b600-49fd-f272-6462ca97fc6a"
      },
      "source": [
        "#index()\n",
        "lst=[20,\"srav\",19,\"jyo\",60.78]\n",
        "index=lst.index(\"jyo\")\n",
        "print(\"The index of jyo is:\",index)"
      ],
      "execution_count": 82,
      "outputs": [
        {
          "output_type": "stream",
          "text": [
            "The index of jyo is: 3\n"
          ],
          "name": "stdout"
        }
      ]
    },
    {
      "cell_type": "code",
      "metadata": {
        "id": "PM5Vi0m0AHVT",
        "colab_type": "code",
        "colab": {
          "base_uri": "https://localhost:8080/",
          "height": 34
        },
        "outputId": "9282dc95-20b2-46d4-b0cc-2d4bbf420fe1"
      },
      "source": [
        "#insert()\n",
        "lst=[10,[2,3,4],\"srav\"]\n",
        "lst.insert(2,\"jyo\")\n",
        "print(lst)"
      ],
      "execution_count": 83,
      "outputs": [
        {
          "output_type": "stream",
          "text": [
            "[10, [2, 3, 4], 'jyo', 'srav']\n"
          ],
          "name": "stdout"
        }
      ]
    },
    {
      "cell_type": "code",
      "metadata": {
        "id": "-LcnIgPAC2P-",
        "colab_type": "code",
        "colab": {
          "base_uri": "https://localhost:8080/",
          "height": 51
        },
        "outputId": "20c63134-fb94-4de8-f4dd-655d9663d2a5"
      },
      "source": [
        "#POP()\n",
        "lst=[10,\"ravi\",78.90,[0,8]]\n",
        "return_value=lst.pop(3)\n",
        "print(\"returnedvalue:\",return_value)\n",
        "print(\"updated List:\",lst)"
      ],
      "execution_count": 84,
      "outputs": [
        {
          "output_type": "stream",
          "text": [
            "returnedvalue: [0, 8]\n",
            "updated List: [10, 'ravi', 78.9]\n"
          ],
          "name": "stdout"
        }
      ]
    },
    {
      "cell_type": "code",
      "metadata": {
        "id": "Wah-1ejFEkly",
        "colab_type": "code",
        "colab": {
          "base_uri": "https://localhost:8080/",
          "height": 34
        },
        "outputId": "c7414e02-e95e-406c-b2c2-90a87726c641"
      },
      "source": [
        "#remove()\n",
        "lst=[\"srav\",89,\"jyo\",56]\n",
        "lst.remove(\"srav\")\n",
        "print(\"updated list:\",lst)"
      ],
      "execution_count": 85,
      "outputs": [
        {
          "output_type": "stream",
          "text": [
            "updated list: [89, 'jyo', 56]\n"
          ],
          "name": "stdout"
        }
      ]
    },
    {
      "cell_type": "code",
      "metadata": {
        "id": "64hQbhO7HGlK",
        "colab_type": "code",
        "colab": {
          "base_uri": "https://localhost:8080/",
          "height": 51
        },
        "outputId": "adb7052d-8feb-4e50-914f-1c82c436c398"
      },
      "source": [
        "#reverse()\n",
        "lst=[10,\"jyo\",90.98]\n",
        "print(\"old list:\",lst)\n",
        "a=lst[::-1]\n",
        "print(\"new list:\",a)\n"
      ],
      "execution_count": 86,
      "outputs": [
        {
          "output_type": "stream",
          "text": [
            "old list: [10, 'jyo', 90.98]\n",
            "new list: [90.98, 'jyo', 10]\n"
          ],
          "name": "stdout"
        }
      ]
    },
    {
      "cell_type": "markdown",
      "metadata": {
        "id": "PMgOjg9CMOtH",
        "colab_type": "text"
      },
      "source": [
        "# dict"
      ]
    },
    {
      "cell_type": "code",
      "metadata": {
        "id": "JoK7OiL1MSVT",
        "colab_type": "code",
        "colab": {
          "base_uri": "https://localhost:8080/",
          "height": 68
        },
        "outputId": "8f0e0530-02c2-4ab2-efd5-03443f3dc803"
      },
      "source": [
        "my_dict = {'name': 'Jack', 'mob': 2687456}\n",
        "print(my_dict['name'])\n",
        "print(my_dict.get('mob'))\n",
        "print(my_dict)"
      ],
      "execution_count": 29,
      "outputs": [
        {
          "output_type": "stream",
          "text": [
            "Jack\n",
            "2687456\n",
            "{'name': 'Jack', 'mob': 2687456}\n"
          ],
          "name": "stdout"
        }
      ]
    },
    {
      "cell_type": "code",
      "metadata": {
        "id": "obFd8BpgQl5g",
        "colab_type": "code",
        "colab": {
          "base_uri": "https://localhost:8080/",
          "height": 34
        },
        "outputId": "958da0f7-a547-49ba-f8c1-6a53d7b0a4e9"
      },
      "source": [
        "#clear()\n",
        "d={\"bird\":\"pegion\",\"colour\":\"white\"}\n",
        "d.clear()\n",
        "print(d)"
      ],
      "execution_count": 87,
      "outputs": [
        {
          "output_type": "stream",
          "text": [
            "{}\n"
          ],
          "name": "stdout"
        }
      ]
    },
    {
      "cell_type": "code",
      "metadata": {
        "id": "tYy3rbCRRkG_",
        "colab_type": "code",
        "colab": {
          "base_uri": "https://localhost:8080/",
          "height": 51
        },
        "outputId": "7d9af66a-9341-4208-9bb7-6a1b6a9628bf"
      },
      "source": [
        "#copy()\n",
        "d={\"bird\":\"pegion\",\"colour\":\"white\"}\n",
        "new=d.copy()\n",
        "print(\"original:\",d)\n",
        "print(\"new:\",new)"
      ],
      "execution_count": 88,
      "outputs": [
        {
          "output_type": "stream",
          "text": [
            "original: {'bird': 'pegion', 'colour': 'white'}\n",
            "new: {'bird': 'pegion', 'colour': 'white'}\n"
          ],
          "name": "stdout"
        }
      ]
    },
    {
      "cell_type": "code",
      "metadata": {
        "id": "cETQEYwtSlKk",
        "colab_type": "code",
        "colab": {
          "base_uri": "https://localhost:8080/",
          "height": 51
        },
        "outputId": "3f356990-8746-4d27-af0a-3e44a0c4c3ff"
      },
      "source": [
        "d={\"bird\":\"pegion\",\"colour\":\"white\"}\n",
        "new=d\n",
        "d.clear()\n",
        "print(\"original:\",d)\n",
        "print(\"new:\",new)"
      ],
      "execution_count": 40,
      "outputs": [
        {
          "output_type": "stream",
          "text": [
            "original: {}\n",
            "new: {}\n"
          ],
          "name": "stdout"
        }
      ]
    },
    {
      "cell_type": "code",
      "metadata": {
        "id": "scdH3HrvSQ54",
        "colab_type": "code",
        "colab": {
          "base_uri": "https://localhost:8080/",
          "height": 51
        },
        "outputId": "017bd49c-d4c2-4348-8846-3c78fbcadce6"
      },
      "source": [
        "d={\"bird\":\"pegion\",\"colour\":\"white\"}\n",
        "new=d.copy()\n",
        "d.clear()\n",
        "print(\"original:\",d)\n",
        "print(\"new:\",new)"
      ],
      "execution_count": 42,
      "outputs": [
        {
          "output_type": "stream",
          "text": [
            "original: {}\n",
            "new: {'bird': 'pegion', 'colour': 'white'}\n"
          ],
          "name": "stdout"
        }
      ]
    },
    {
      "cell_type": "code",
      "metadata": {
        "id": "5Kq94rZ0S5Tb",
        "colab_type": "code",
        "colab": {
          "base_uri": "https://localhost:8080/",
          "height": 51
        },
        "outputId": "21d001fd-66bd-4d8b-e0ce-13b0e1d6a5fe"
      },
      "source": [
        "#from keys()\n",
        "keys = {'a', 'e', 'i', 'o', 'u' }\n",
        "value = [1]\n",
        "\n",
        "vowels = dict.fromkeys(keys, value)\n",
        "print(vowels)\n",
        "\n",
        "# updating the value\n",
        "value.append(2)\n",
        "print(vowels)"
      ],
      "execution_count": 89,
      "outputs": [
        {
          "output_type": "stream",
          "text": [
            "{'i': [1], 'u': [1], 'e': [1], 'o': [1], 'a': [1]}\n",
            "{'i': [1, 2], 'u': [1, 2], 'e': [1, 2], 'o': [1, 2], 'a': [1, 2]}\n"
          ],
          "name": "stdout"
        }
      ]
    },
    {
      "cell_type": "code",
      "metadata": {
        "id": "xwJeW5OabD6W",
        "colab_type": "code",
        "colab": {
          "base_uri": "https://localhost:8080/",
          "height": 68
        },
        "outputId": "fc9a6a51-92b8-4bb0-fcd5-f056cfde82cf"
      },
      "source": [
        "#get()\n",
        "d={\"bird\":\"pegion\",\"colour\":\"white\"}\n",
        "print('bird:', d.get('bird'))\n",
        "print('colour: ', d.get('colour'))\n",
        "print('breed: ', d.get('breed'))\n"
      ],
      "execution_count": 90,
      "outputs": [
        {
          "output_type": "stream",
          "text": [
            "bird: pegion\n",
            "colour:  white\n",
            "breed:  None\n"
          ],
          "name": "stdout"
        }
      ]
    },
    {
      "cell_type": "code",
      "metadata": {
        "id": "PbxNFI5Bc6Qo",
        "colab_type": "code",
        "colab": {
          "base_uri": "https://localhost:8080/",
          "height": 51
        },
        "outputId": "ca285dae-1209-4423-f85e-19bb30747bea"
      },
      "source": [
        "#items()\n",
        "sales = { 'apple': 2, 'orange': 3, 'grapes': 4 }\n",
        "\n",
        "items = sales.items()\n",
        "print('Original items:', items)\n",
        "\n",
        "# delete an item from dictionary\n",
        "del[sales['apple']]\n",
        "print('Updated items:', items)"
      ],
      "execution_count": 91,
      "outputs": [
        {
          "output_type": "stream",
          "text": [
            "Original items: dict_items([('apple', 2), ('orange', 3), ('grapes', 4)])\n",
            "Updated items: dict_items([('orange', 3), ('grapes', 4)])\n"
          ],
          "name": "stdout"
        }
      ]
    },
    {
      "cell_type": "code",
      "metadata": {
        "id": "30DnTELsjWK8",
        "colab_type": "code",
        "colab": {
          "base_uri": "https://localhost:8080/",
          "height": 102
        },
        "outputId": "e9eee779-0bae-4126-f847-756caf91cd40"
      },
      "source": [
        "#keys()\n",
        "a = {'thing': 'chair', 'colour': \"black\" }\n",
        "\n",
        "print('Before dictionary is updated')\n",
        "keys = a.keys()\n",
        "print(keys)\n",
        "\n",
        "# adding an element to the dictionary\n",
        "a.update({'material': \"wood\"})\n",
        "print('\\nAfter dictionary is updated')\n",
        "print(keys)"
      ],
      "execution_count": 92,
      "outputs": [
        {
          "output_type": "stream",
          "text": [
            "Before dictionary is updated\n",
            "dict_keys(['thing', 'colour'])\n",
            "\n",
            "After dictionary is updated\n",
            "dict_keys(['thing', 'colour', 'material'])\n"
          ],
          "name": "stdout"
        }
      ]
    },
    {
      "cell_type": "code",
      "metadata": {
        "id": "iWIQaGHHmHNV",
        "colab_type": "code",
        "colab": {
          "base_uri": "https://localhost:8080/",
          "height": 51
        },
        "outputId": "6cfc99d4-79b9-4b35-be31-d031efe64a39"
      },
      "source": [
        "#pop()\n",
        "sales = { 'apple': 2, 'orange': 3, 'grapes': 4 }\n",
        "\n",
        "element = sales.pop('apple')\n",
        "print('The popped element is:', element)\n",
        "print('The dictionary is:', sales)"
      ],
      "execution_count": 93,
      "outputs": [
        {
          "output_type": "stream",
          "text": [
            "The popped element is: 2\n",
            "The dictionary is: {'orange': 3, 'grapes': 4}\n"
          ],
          "name": "stdout"
        }
      ]
    },
    {
      "cell_type": "code",
      "metadata": {
        "id": "p-KYz29pkJS7",
        "colab_type": "code",
        "colab": {
          "base_uri": "https://localhost:8080/",
          "height": 68
        },
        "outputId": "a2fca2f2-1762-410c-b655-40adfb0bc966"
      },
      "source": [
        "#popitem()\n",
        "a = {'thing': 'chair', 'colour': \"black\",'material': \"wood\" }\n",
        "#material is inserted last,so it will be removed\n",
        "result = a.popitem()\n",
        "print('Return Value = ', result)\n",
        "print('a = ', a)\n",
        "\n",
        "# inserting a new element pair\n",
        "a['no.of chairs'] = 5\n",
        "print(a)"
      ],
      "execution_count": 94,
      "outputs": [
        {
          "output_type": "stream",
          "text": [
            "Return Value =  ('material', 'wood')\n",
            "a =  {'thing': 'chair', 'colour': 'black'}\n",
            "{'thing': 'chair', 'colour': 'black', 'no.of chairs': 5}\n"
          ],
          "name": "stdout"
        }
      ]
    },
    {
      "cell_type": "code",
      "metadata": {
        "id": "j1EytWugmpa2",
        "colab_type": "code",
        "colab": {
          "base_uri": "https://localhost:8080/",
          "height": 85
        },
        "outputId": "35e5e088-1a91-4961-dce0-f65f7a696a48"
      },
      "source": [
        "#default()\n",
        "person = {'name': 'jyo'}\n",
        "\n",
        "# key is not in the dictionary\n",
        "salary = person.setdefault('salary')\n",
        "print('person = ',person)\n",
        "print('salary = ',salary)\n",
        "\n",
        "# key is not in the dictionary\n",
        "# default_value is provided\n",
        "age = person.setdefault('age', 40)\n",
        "print('person = ',person)\n",
        "print('age = ',age)"
      ],
      "execution_count": 95,
      "outputs": [
        {
          "output_type": "stream",
          "text": [
            "person =  {'name': 'jyo', 'salary': None}\n",
            "salary =  None\n",
            "person =  {'name': 'jyo', 'salary': None, 'age': 40}\n",
            "age =  40\n"
          ],
          "name": "stdout"
        }
      ]
    },
    {
      "cell_type": "code",
      "metadata": {
        "id": "vtAxnTkwnVfv",
        "colab_type": "code",
        "colab": {
          "base_uri": "https://localhost:8080/",
          "height": 51
        },
        "outputId": "1158ceab-66e7-43e8-c4b1-604aea83b835"
      },
      "source": [
        "#update()\n",
        "d = {1: \"one\", 2: \"three\"}\n",
        "d1 = {2: \"two\"}\n",
        "\n",
        "# updates the value of key 2\n",
        "d.update(d1)\n",
        "print(d)\n",
        "\n",
        "d1 = {3: \"three\"}\n",
        "\n",
        "# adds element with key 3\n",
        "d.update(d1)\n",
        "print(d)"
      ],
      "execution_count": 96,
      "outputs": [
        {
          "output_type": "stream",
          "text": [
            "{1: 'one', 2: 'two'}\n",
            "{1: 'one', 2: 'two', 3: 'three'}\n"
          ],
          "name": "stdout"
        }
      ]
    },
    {
      "cell_type": "code",
      "metadata": {
        "id": "FC1iTki_nc5i",
        "colab_type": "code",
        "colab": {
          "base_uri": "https://localhost:8080/",
          "height": 51
        },
        "outputId": "7bb56e01-e97a-4a4a-f1d8-6970ba7f967a"
      },
      "source": [
        "#values()\n",
        "sales = { 'apple': 2, 'orange': 3, 'grapes': 4 }\n",
        "\n",
        "values = sales.values()\n",
        "print('Original items:', values)\n",
        "\n",
        "# delete an item from dictionary\n",
        "del[sales['apple']]\n",
        "print('Updated items:', values)\n"
      ],
      "execution_count": 97,
      "outputs": [
        {
          "output_type": "stream",
          "text": [
            "Original items: dict_values([2, 3, 4])\n",
            "Updated items: dict_values([3, 4])\n"
          ],
          "name": "stdout"
        }
      ]
    },
    {
      "cell_type": "markdown",
      "metadata": {
        "id": "xmQF2MeIpOtk",
        "colab_type": "text"
      },
      "source": [
        "# Set"
      ]
    },
    {
      "cell_type": "code",
      "metadata": {
        "id": "T-bar39HpYLD",
        "colab_type": "code",
        "colab": {
          "base_uri": "https://localhost:8080/",
          "height": 34
        },
        "outputId": "3118f70d-4840-424f-ac57-b9d3bca41c28"
      },
      "source": [
        "my_set = {1, 2, 3, 4, 3, 2}\n",
        "print(my_set)"
      ],
      "execution_count": 58,
      "outputs": [
        {
          "output_type": "stream",
          "text": [
            "{1, 2, 3, 4}\n"
          ],
          "name": "stdout"
        }
      ]
    },
    {
      "cell_type": "code",
      "metadata": {
        "id": "hxLybKzKp8Sn",
        "colab_type": "code",
        "colab": {
          "base_uri": "https://localhost:8080/",
          "height": 34
        },
        "outputId": "dc9fc00b-8346-4206-adc2-87ed431f2f37"
      },
      "source": [
        "#remove()\n",
        "language = {'English', 'French', 'German'}\n",
        "language.remove('German')\n",
        "print('Updated language set:', language)"
      ],
      "execution_count": 98,
      "outputs": [
        {
          "output_type": "stream",
          "text": [
            "Updated language set: {'English', 'French'}\n"
          ],
          "name": "stdout"
        }
      ]
    },
    {
      "cell_type": "code",
      "metadata": {
        "id": "DzWM0jB2s3P9",
        "colab_type": "code",
        "colab": {
          "base_uri": "https://localhost:8080/",
          "height": 51
        },
        "outputId": "dbee1703-d9c6-4920-ba5c-19808276cc6b"
      },
      "source": [
        "#add()\n",
        "vowels = {'a', 'e', 'u'}\n",
        "\n",
        "# a tuple ('i', 'o')\n",
        "tup = ('i', 'o')\n",
        "\n",
        "# adding tuple\n",
        "vowels.add(tup)\n",
        "print('Vowels are:', vowels)\n",
        "\n",
        "# adding same tuple again\n",
        "vowels.add(tup)\n",
        "print('Vowels are:', vowels)"
      ],
      "execution_count": 99,
      "outputs": [
        {
          "output_type": "stream",
          "text": [
            "Vowels are: {'u', 'a', ('i', 'o'), 'e'}\n",
            "Vowels are: {'u', 'a', ('i', 'o'), 'e'}\n"
          ],
          "name": "stdout"
        }
      ]
    },
    {
      "cell_type": "code",
      "metadata": {
        "id": "cLc9-Muiut_H",
        "colab_type": "code",
        "colab": {
          "base_uri": "https://localhost:8080/",
          "height": 51
        },
        "outputId": "ddc0083f-fd2d-4833-f5cb-74373708e5cc"
      },
      "source": [
        "#copy()\n",
        "numbers = {1, 2, 3, 4}\n",
        "new_numbers = numbers.copy()\n",
        "\n",
        "new_numbers.add(5)\n",
        "\n",
        "print('numbers: ', numbers)\n",
        "print('new_numbers: ', new_numbers)"
      ],
      "execution_count": 100,
      "outputs": [
        {
          "output_type": "stream",
          "text": [
            "numbers:  {1, 2, 3, 4}\n",
            "new_numbers:  {1, 2, 3, 4, 5}\n"
          ],
          "name": "stdout"
        }
      ]
    },
    {
      "cell_type": "code",
      "metadata": {
        "id": "rreCm_XwvcfG",
        "colab_type": "code",
        "colab": {
          "base_uri": "https://localhost:8080/",
          "height": 51
        },
        "outputId": "24d3e416-0811-4120-d2d1-894343f5e681"
      },
      "source": [
        "#clear()\n",
        "numbers = {1, 2, 3, 4}\n",
        "new_numbers = numbers.copy()\n",
        "numbers.clear()\n",
        "print('numbers: ', numbers)\n",
        "print('new_numbers: ', new_numbers)\n"
      ],
      "execution_count": 101,
      "outputs": [
        {
          "output_type": "stream",
          "text": [
            "numbers:  set()\n",
            "new_numbers:  {1, 2, 3, 4}\n"
          ],
          "name": "stdout"
        }
      ]
    },
    {
      "cell_type": "code",
      "metadata": {
        "id": "1mZwLfsAwvIy",
        "colab_type": "code",
        "colab": {
          "base_uri": "https://localhost:8080/",
          "height": 51
        },
        "outputId": "91271a29-ffaf-41cc-bfb0-75906b8ec747"
      },
      "source": [
        "#difference()\n",
        "A = {'a', 'b', 'c', 'd'}\n",
        "B = {'c', 'f', 'g'}\n",
        "\n",
        "# Equivalent to A-B\n",
        "print(A.difference(B))\n",
        "\n",
        "# Equivalent to B-A\n",
        "print(B.difference(A))"
      ],
      "execution_count": 102,
      "outputs": [
        {
          "output_type": "stream",
          "text": [
            "{'a', 'b', 'd'}\n",
            "{'f', 'g'}\n"
          ],
          "name": "stdout"
        }
      ]
    },
    {
      "cell_type": "code",
      "metadata": {
        "id": "N3dnwyjLxJa-",
        "colab_type": "code",
        "colab": {
          "base_uri": "https://localhost:8080/",
          "height": 68
        },
        "outputId": "fa255074-e651-40dc-ffee-e0a74c37ab6b"
      },
      "source": [
        "#setdifference_update()\n",
        "A = {'a', 'c', 'g', 'd'}\n",
        "B = {'c', 'f', 'g'}\n",
        "\n",
        "result = A.difference_update(B)\n",
        "\n",
        "print('A = ', A)\n",
        "print('B = ', B)\n",
        "print('result = ', result)"
      ],
      "execution_count": 103,
      "outputs": [
        {
          "output_type": "stream",
          "text": [
            "A =  {'d', 'a'}\n",
            "B =  {'f', 'c', 'g'}\n",
            "result =  None\n"
          ],
          "name": "stdout"
        }
      ]
    },
    {
      "cell_type": "code",
      "metadata": {
        "id": "h9Fxi2XFx-GA",
        "colab_type": "code",
        "colab": {
          "base_uri": "https://localhost:8080/",
          "height": 34
        },
        "outputId": "2ccdd3ea-aac5-40cd-b7fa-f54aa381e475"
      },
      "source": [
        "#discard()\n",
        "numbers = {2, 3, 4, 5}\n",
        "\n",
        "numbers.discard(3)\n",
        "print('numbers = ', numbers)"
      ],
      "execution_count": 105,
      "outputs": [
        {
          "output_type": "stream",
          "text": [
            "numbers =  {2, 4, 5}\n"
          ],
          "name": "stdout"
        }
      ]
    },
    {
      "cell_type": "code",
      "metadata": {
        "id": "ZuxsbX3xyfw9",
        "colab_type": "code",
        "colab": {
          "base_uri": "https://localhost:8080/",
          "height": 85
        },
        "outputId": "75395ebd-1a79-4767-898d-6845efdd6a8c"
      },
      "source": [
        "#intersection()\n",
        "A = {2, 3, 5, 4}\n",
        "B = {2, 5, 100}\n",
        "C = {2, 3, 8, 9, 10}\n",
        "\n",
        "print(B.intersection(A))\n",
        "print(B.intersection(C))\n",
        "print(A.intersection(C))\n",
        "print(C.intersection(A, B))"
      ],
      "execution_count": 104,
      "outputs": [
        {
          "output_type": "stream",
          "text": [
            "{2, 5}\n",
            "{2}\n",
            "{2, 3}\n",
            "{2}\n"
          ],
          "name": "stdout"
        }
      ]
    },
    {
      "cell_type": "code",
      "metadata": {
        "id": "uy0bUIGjy1ib",
        "colab_type": "code",
        "colab": {
          "base_uri": "https://localhost:8080/",
          "height": 85
        },
        "outputId": "20e39265-6d77-48c2-e425-65f262b3ea7f"
      },
      "source": [
        "#intersection_update()\n",
        "A = {1, 2, 3, 4}\n",
        "B = {2, 3, 4, 5, 6}\n",
        "C = {4, 5, 6, 9, 10}\n",
        "\n",
        "result = C.intersection_update(B, A)\n",
        "\n",
        "print('result =', result)\n",
        "print('C =', C)\n",
        "print('B =', B)\n",
        "print('A =', A)"
      ],
      "execution_count": 73,
      "outputs": [
        {
          "output_type": "stream",
          "text": [
            "result = None\n",
            "C = {4}\n",
            "B = {2, 3, 4, 5, 6}\n",
            "A = {1, 2, 3, 4}\n"
          ],
          "name": "stdout"
        }
      ]
    },
    {
      "cell_type": "code",
      "metadata": {
        "id": "s_IV-gIOzIXH",
        "colab_type": "code",
        "colab": {
          "base_uri": "https://localhost:8080/",
          "height": 85
        },
        "outputId": "0ee7fffb-d6ff-46b4-a9eb-44a0d7cbe67f"
      },
      "source": [
        "#isdisjoint()\n",
        "A = {'a', 'b', 'c', 'd'}\n",
        "B = ['b', 'e', 'f']\n",
        "C = '5de4'\n",
        "D ={1 : 'a', 2 : 'b'}\n",
        "E ={'a' : 1, 'b' : 2}\n",
        "\n",
        "print('Are A and B disjoint?', A.isdisjoint(B))\n",
        "print('Are A and C disjoint?', A.isdisjoint(C))\n",
        "print('Are A and D disjoint?', A.isdisjoint(D))\n",
        "print('Are A and E disjoint?', A.isdisjoint(E))"
      ],
      "execution_count": 72,
      "outputs": [
        {
          "output_type": "stream",
          "text": [
            "Are A and B disjoint? False\n",
            "Are A and C disjoint? False\n",
            "Are A and D disjoint? True\n",
            "Are A and E disjoint? False\n"
          ],
          "name": "stdout"
        }
      ]
    },
    {
      "cell_type": "code",
      "metadata": {
        "id": "0J3aqC-a0m4P",
        "colab_type": "code",
        "colab": {
          "base_uri": "https://localhost:8080/",
          "height": 85
        },
        "outputId": "c6c4567e-ec82-4f54-ca13-d708d676fe17"
      },
      "source": [
        "#issubset()\n",
        "A = {1, 2, 3}\n",
        "B = {1, 2, 3, 4, 5}\n",
        "C = {1, 2, 4, 5}\n",
        "\n",
        "# Returns True\n",
        "print(A.issubset(B))\n",
        "\n",
        "# Returns False\n",
        "# B is not subset of A\n",
        "print(B.issubset(A))\n",
        "\n",
        "# Returns False\n",
        "print(A.issubset(C))\n",
        "\n",
        "# Returns True\n",
        "print(C.issubset(B))"
      ],
      "execution_count": 106,
      "outputs": [
        {
          "output_type": "stream",
          "text": [
            "True\n",
            "False\n",
            "False\n",
            "True\n"
          ],
          "name": "stdout"
        }
      ]
    },
    {
      "cell_type": "code",
      "metadata": {
        "id": "1JUqNXGl09DP",
        "colab_type": "code",
        "colab": {
          "base_uri": "https://localhost:8080/",
          "height": 51
        },
        "outputId": "f06a4f4a-de2e-4e99-98ee-5126f8eafe3b"
      },
      "source": [
        "#pop()\n",
        "A ={'a', 'b', 'c', 'd'}\n",
        "print('Return Value is', A.pop())\n",
        "print('A = ', A)"
      ],
      "execution_count": 114,
      "outputs": [
        {
          "output_type": "stream",
          "text": [
            "Return Value is a\n",
            "A =  {'b', 'c', 'd'}\n"
          ],
          "name": "stdout"
        }
      ]
    },
    {
      "cell_type": "code",
      "metadata": {
        "id": "jtFLuQ3Z1pbF",
        "colab_type": "code",
        "colab": {
          "base_uri": "https://localhost:8080/",
          "height": 85
        },
        "outputId": "3cb22d91-1d6e-4b4a-c007-39f568ce163d"
      },
      "source": [
        "#symmetric_difference()\n",
        "A = {'a', 'b', 'c', 'd'}\n",
        "B = {'c', 'd', 'e' }\n",
        "C = {}\n",
        "\n",
        "print(A.symmetric_difference(B))\n",
        "print(B.symmetric_difference(A))\n",
        "\n",
        "print(A.symmetric_difference(C))\n",
        "print(B.symmetric_difference(C))"
      ],
      "execution_count": 115,
      "outputs": [
        {
          "output_type": "stream",
          "text": [
            "{'b', 'e', 'a'}\n",
            "{'b', 'e', 'a'}\n",
            "{'a', 'b', 'c', 'd'}\n",
            "{'c', 'e', 'd'}\n"
          ],
          "name": "stdout"
        }
      ]
    },
    {
      "cell_type": "code",
      "metadata": {
        "id": "0RlnqcmQ13t4",
        "colab_type": "code",
        "colab": {
          "base_uri": "https://localhost:8080/",
          "height": 68
        },
        "outputId": "81960381-87af-4897-9e99-2fe1b3b50352"
      },
      "source": [
        "#symmetric_difference_update()\n",
        "A = {'a', 'c', 'd'}\n",
        "B = {'c', 'd', 'e' }\n",
        "\n",
        "result = A.symmetric_difference_update(B)\n",
        "\n",
        "print('A =', A)\n",
        "print('B =', B)\n",
        "print('result =', result)\n"
      ],
      "execution_count": 116,
      "outputs": [
        {
          "output_type": "stream",
          "text": [
            "A = {'a', 'e'}\n",
            "B = {'c', 'e', 'd'}\n",
            "result = None\n"
          ],
          "name": "stdout"
        }
      ]
    },
    {
      "cell_type": "code",
      "metadata": {
        "id": "42_xJz_Z2Dwx",
        "colab_type": "code",
        "colab": {
          "base_uri": "https://localhost:8080/",
          "height": 85
        },
        "outputId": "015ad046-5491-4578-d69d-f22fe66a4a2b"
      },
      "source": [
        "#union()\n",
        "A = {'a', 'c', 'd'}\n",
        "B = {'c', 'd', 2 }\n",
        "C = {1, 2, 3}\n",
        "\n",
        "print('A U B =', A.union(B))\n",
        "print('B U C =', B.union(C))\n",
        "print('A U B U C =', A.union(B, C))\n",
        "print('A.union() =', A.union())"
      ],
      "execution_count": 117,
      "outputs": [
        {
          "output_type": "stream",
          "text": [
            "A U B = {2, 'c', 'd', 'a'}\n",
            "B U C = {1, 2, 3, 'c', 'd'}\n",
            "A U B U C = {1, 2, 3, 'c', 'd', 'a'}\n",
            "A.union() = {'a', 'c', 'd'}\n"
          ],
          "name": "stdout"
        }
      ]
    },
    {
      "cell_type": "code",
      "metadata": {
        "id": "y-yJ2mge2ZJ7",
        "colab_type": "code",
        "colab": {
          "base_uri": "https://localhost:8080/",
          "height": 68
        },
        "outputId": "5cdca9a0-2ae0-415b-a752-0b3e9a8ab845"
      },
      "source": [
        "A = {'a', 'c', 'd'}\n",
        "B = {'c', 'd', 2 }\n",
        "C = {1, 2, 3}\n",
        "\n",
        "print('A U B =', A| B)\n",
        "print('B U C =', B | C)\n",
        "print('A U B U C =', A | B | C)"
      ],
      "execution_count": 121,
      "outputs": [
        {
          "output_type": "stream",
          "text": [
            "A U B = {2, 'c', 'd', 'a'}\n",
            "B U C = {1, 2, 3, 'c', 'd'}\n",
            "A U B U C = {1, 2, 3, 'c', 'd', 'a'}\n"
          ],
          "name": "stdout"
        }
      ]
    },
    {
      "cell_type": "code",
      "metadata": {
        "id": "cu0tSbhd2Gh_",
        "colab_type": "code",
        "colab": {
          "base_uri": "https://localhost:8080/",
          "height": 51
        },
        "outputId": "8f72f6c0-3dbd-4694-ee14-2b9d674aa9bc"
      },
      "source": [
        "#update()\n",
        "A = {'a', 'b'}\n",
        "B = {1, 2, 3}\n",
        "result = A.update(B)\n",
        "print('A =', A)\n",
        "print('result =', result)"
      ],
      "execution_count": 120,
      "outputs": [
        {
          "output_type": "stream",
          "text": [
            "A = {1, 2, 3, 'a', 'b'}\n",
            "result = None\n"
          ],
          "name": "stdout"
        }
      ]
    },
    {
      "cell_type": "markdown",
      "metadata": {
        "id": "WWnuDsj-3K-V",
        "colab_type": "text"
      },
      "source": [
        "# Tuples"
      ]
    },
    {
      "cell_type": "code",
      "metadata": {
        "id": "etZL3EDU3QMo",
        "colab_type": "code",
        "colab": {
          "base_uri": "https://localhost:8080/",
          "height": 34
        },
        "outputId": "15df2013-7b78-4a57-e0a6-db26c683b18a"
      },
      "source": [
        "t=(\"srav\",90.35,\"jyo\")\n",
        "print(t)"
      ],
      "execution_count": 122,
      "outputs": [
        {
          "output_type": "stream",
          "text": [
            "('srav', 90.35, 'jyo')\n"
          ],
          "name": "stdout"
        }
      ]
    },
    {
      "cell_type": "code",
      "metadata": {
        "id": "__zV52eT4HM4",
        "colab_type": "code",
        "colab": {
          "base_uri": "https://localhost:8080/",
          "height": 34
        },
        "outputId": "b6b56ecc-8cdb-4013-df14-1c7c33fad049"
      },
      "source": [
        "#index()\n",
        "t=(\"srav\",90.35,\"jyo\",[5,7])\n",
        "print(t[3][1])"
      ],
      "execution_count": 125,
      "outputs": [
        {
          "output_type": "stream",
          "text": [
            "7\n"
          ],
          "name": "stdout"
        }
      ]
    },
    {
      "cell_type": "code",
      "metadata": {
        "id": "fYFMcrZB4-gs",
        "colab_type": "code",
        "colab": {
          "base_uri": "https://localhost:8080/",
          "height": 34
        },
        "outputId": "c9e10aa5-f69b-4155-cab6-2884c12f6f5e"
      },
      "source": [
        "#negativeindex()\n",
        "t=(\"srav\",90.35,\"jyo\",[5,7])\n",
        "print(t[-1])"
      ],
      "execution_count": 126,
      "outputs": [
        {
          "output_type": "stream",
          "text": [
            "[5, 7]\n"
          ],
          "name": "stdout"
        }
      ]
    },
    {
      "cell_type": "code",
      "metadata": {
        "id": "AdAgdmAV5N7d",
        "colab_type": "code",
        "colab": {
          "base_uri": "https://localhost:8080/",
          "height": 51
        },
        "outputId": "ce51f3e6-de62-4e51-af17-628e3e5a45b2"
      },
      "source": [
        "#count()\n",
        "vowels = ('a', 'e', 'i', 'o', 'i', 'u')\n",
        "\n",
        "count = vowels.count('i')\n",
        "\n",
        "# print count\n",
        "print('The count of i is:', count)\n",
        "\n",
        "# count element 'p'\n",
        "count = vowels.count('p')\n",
        "\n",
        "# print count\n",
        "print('The count of p is:', count)"
      ],
      "execution_count": 127,
      "outputs": [
        {
          "output_type": "stream",
          "text": [
            "The count of i is: 2\n",
            "The count of p is: 0\n"
          ],
          "name": "stdout"
        }
      ]
    },
    {
      "cell_type": "markdown",
      "metadata": {
        "id": "crJZrLuf6ijj",
        "colab_type": "text"
      },
      "source": [
        "# Boolean"
      ]
    },
    {
      "cell_type": "code",
      "metadata": {
        "id": "Y8qstdFJ6mHz",
        "colab_type": "code",
        "colab": {
          "base_uri": "https://localhost:8080/",
          "height": 68
        },
        "outputId": "6c217e8c-fb08-4995-da00-86e0251e55c5"
      },
      "source": [
        "print(10 > 9)\n",
        "print(10 == 9)\n",
        "print(10 < 9)"
      ],
      "execution_count": 128,
      "outputs": [
        {
          "output_type": "stream",
          "text": [
            "True\n",
            "False\n",
            "False\n"
          ],
          "name": "stdout"
        }
      ]
    },
    {
      "cell_type": "code",
      "metadata": {
        "id": "zWjTA9JM7Bgq",
        "colab_type": "code",
        "colab": {
          "base_uri": "https://localhost:8080/",
          "height": 51
        },
        "outputId": "f294446f-6309-4445-b7d0-eeebd62565d8"
      },
      "source": [
        "print(bool(\"Hello\"))\n",
        "print(bool(15))"
      ],
      "execution_count": 129,
      "outputs": [
        {
          "output_type": "stream",
          "text": [
            "True\n",
            "True\n"
          ],
          "name": "stdout"
        }
      ]
    }
  ]
}